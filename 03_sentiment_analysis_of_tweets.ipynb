{
 "cells": [
  {
   "cell_type": "markdown",
   "metadata": {},
   "source": [
    "#### Load modules"
   ]
  },
  {
   "cell_type": "code",
   "execution_count": 8,
   "metadata": {},
   "outputs": [],
   "source": [
    "# import numpy as np\n",
    "import pandas as pd\n",
    "pd.set_option('display.max_rows', 500) # specifies number of rows to show\n",
    "pd.options.display.max_colwidth = 1000\n",
    "from matplotlib import pyplot as plt\n",
    "%matplotlib inline\n",
    "\n",
    "import mglearn\n",
    "import random\n",
    "import spacy   # lemmatization\n",
    "import nltk\n",
    "from nltk.corpus import stopwords ## Import stopwords with nltk.\n",
    "import re\n",
    "import numpy as np\n",
    "\n",
    "# reference \n",
    "# https://realpython.com/sentiment-analysis-python/\n",
    "# https://medium.com/@bedigunjit/simple-guide-to-text-classification-nlp-using-svm-and-naive-bayes-with-python-421db3a72d34\n",
    "# https://wandb.ai/akshayuppal12/Finetune-BERT-Text-Classification/reports/How-to-Fine-Tune-BERT-for-Text-Classification--Vmlldzo4OTk4MzY#setting-up-bert-for-text-classification\n"
   ]
  },
  {
   "cell_type": "code",
   "execution_count": 9,
   "metadata": {},
   "outputs": [],
   "source": [
    "from nltk.tokenize import word_tokenize\n",
    "from nltk import pos_tag\n",
    "from nltk.corpus import stopwords\n",
    "from nltk.stem import WordNetLemmatizer\n",
    "from sklearn.preprocessing import LabelEncoder\n",
    "from collections import defaultdict\n",
    "from nltk.corpus import wordnet as wn\n",
    "\n",
    "from sklearn.pipeline import make_pipeline\n",
    "\n",
    "from sklearn.feature_extraction.text import TfidfVectorizer\n",
    "from sklearn.feature_extraction.text import CountVectorizer   # bag of words \n",
    "from sklearn import model_selection, naive_bayes, svm\n",
    "from sklearn.svm import SVC\n",
    "from sklearn.svm import LinearSVC\n",
    "from sklearn.metrics import accuracy_score, f1_score, precision_score, recall_score, classification_report, confusion_matrix\n",
    "from sklearn.metrics import classification_report\n",
    "\n",
    "from sklearn.model_selection import cross_val_score      # cross validation\n",
    "from sklearn.model_selection import StratifiedShuffleSplit\n",
    "from sklearn.linear_model import LogisticRegression      # logistic regression \n",
    "from sklearn.model_selection import GridSearchCV         # Grid search cross validation  \n",
    "\n",
    "from sklearn.ensemble import RandomForestClassifier\n",
    "\n",
    "import re"
   ]
  },
  {
   "cell_type": "markdown",
   "metadata": {},
   "source": [
    "#### Read in Data"
   ]
  },
  {
   "cell_type": "code",
   "execution_count": 10,
   "metadata": {
    "scrolled": true
   },
   "outputs": [
    {
     "name": "stdout",
     "output_type": "stream",
     "text": [
      "<class 'pandas.core.frame.DataFrame'>\n",
      "Int64Index: 2065 entries, 0 to 2104\n",
      "Data columns (total 3 columns):\n",
      " #   Column   Non-Null Count  Dtype \n",
      "---  ------   --------------  ----- \n",
      " 0   id       2065 non-null   object\n",
      " 1   label    2065 non-null   int64 \n",
      " 2   cleaned  2065 non-null   object\n",
      "dtypes: int64(1), object(2)\n",
      "memory usage: 64.5+ KB\n",
      "None\n"
     ]
    }
   ],
   "source": [
    "path = \"collected_twts/Labeled_1/Labeled_2/labeled_tweets_totrain.json\"  # Current\n",
    "twt_label=pd.read_json(path, dtype=str)\n",
    "twt_label[\"label\"]=pd.to_numeric(twt_label[\"label\"])\n",
    "data=twt_label[[\"id\",\"label\",\"cleaned\"]]\n",
    "# remove duplicated records \n",
    "data = data.drop_duplicates(subset=['cleaned'])\n",
    "print(data.info())"
   ]
  },
  {
   "cell_type": "code",
   "execution_count": 11,
   "metadata": {
    "scrolled": true
   },
   "outputs": [
    {
     "data": {
      "text/html": [
       "<div>\n",
       "<style scoped>\n",
       "    .dataframe tbody tr th:only-of-type {\n",
       "        vertical-align: middle;\n",
       "    }\n",
       "\n",
       "    .dataframe tbody tr th {\n",
       "        vertical-align: top;\n",
       "    }\n",
       "\n",
       "    .dataframe thead th {\n",
       "        text-align: right;\n",
       "    }\n",
       "</style>\n",
       "<table border=\"1\" class=\"dataframe\">\n",
       "  <thead>\n",
       "    <tr style=\"text-align: right;\">\n",
       "      <th></th>\n",
       "      <th>id</th>\n",
       "      <th>label</th>\n",
       "      <th>cleaned</th>\n",
       "    </tr>\n",
       "  </thead>\n",
       "  <tbody>\n",
       "    <tr>\n",
       "      <th>0</th>\n",
       "      <td>1431545243825016837</td>\n",
       "      <td>-1</td>\n",
       "      <td>the science let's see if you actually understand the science 1 against what precisely does the vax stimulate antibody production 2 why should a person with covid antibodies get the vax 3 should one seek infection once vaxed</td>\n",
       "    </tr>\n",
       "    <tr>\n",
       "      <th>1</th>\n",
       "      <td>1370008698525990912</td>\n",
       "      <td>-1</td>\n",
       "      <td>i am against any vaccine if it doesn't work on kids kids do get the virus</td>\n",
       "    </tr>\n",
       "    <tr>\n",
       "      <th>2</th>\n",
       "      <td>1342494741376675840</td>\n",
       "      <td>-1</td>\n",
       "      <td>so your vax doesn't work cause if it did and the way its going to be taken it should be absolutely eradicated if your saying therebis many different strans then it is the fuckin flu and once again bigpharma is profiting off of us covidvaccine</td>\n",
       "    </tr>\n",
       "    <tr>\n",
       "      <th>3</th>\n",
       "      <td>1406079188956745731</td>\n",
       "      <td>-1</td>\n",
       "      <td>no if you're worried about covid and ok w getting vaccinated get vaccinated if you're not worried about covid or worried about the vaccine don't everybody gets what they took the risk of doing you can't force ppl into taking something bc you feel it's best for you and them</td>\n",
       "    </tr>\n",
       "    <tr>\n",
       "      <th>4</th>\n",
       "      <td>1403306558667345922</td>\n",
       "      <td>-1</td>\n",
       "      <td>the vaccine debate is over the vaccine is not necessary for all and should not be required and forced on healthy people</td>\n",
       "    </tr>\n",
       "    <tr>\n",
       "      <th>...</th>\n",
       "      <td>...</td>\n",
       "      <td>...</td>\n",
       "      <td>...</td>\n",
       "    </tr>\n",
       "    <tr>\n",
       "      <th>2099</th>\n",
       "      <td>1422604608824913923</td>\n",
       "      <td>0</td>\n",
       "      <td>it was good just a week ago new york gov cuomo urges businesses to adopt 'vaccineonly admission' delta yields more reinfections fauci says latest covid19 news</td>\n",
       "    </tr>\n",
       "    <tr>\n",
       "      <th>2100</th>\n",
       "      <td>1423790413664694272</td>\n",
       "      <td>0</td>\n",
       "      <td>i'm discussing vaccine is free but insulin is not tuesday aug 10 at 200 pm edt on join us</td>\n",
       "    </tr>\n",
       "    <tr>\n",
       "      <th>2101</th>\n",
       "      <td>1425508706876338186</td>\n",
       "      <td>0</td>\n",
       "      <td>come to my show tonight at union pool new tunes great band bring your vax pass tim kuhl 10pm the perfect man 915pm french cleats 830pm 10</td>\n",
       "    </tr>\n",
       "    <tr>\n",
       "      <th>2102</th>\n",
       "      <td>1428145994433187852</td>\n",
       "      <td>-1</td>\n",
       "      <td>it's time anyone who lives in long island ny please join us in the fight against agenda 21 and the global vaccine mandatesupport you're healthcare workersnurses and doctors who are for the right to choose</td>\n",
       "    </tr>\n",
       "    <tr>\n",
       "      <th>2104</th>\n",
       "      <td>1426145390605344769</td>\n",
       "      <td>0</td>\n",
       "      <td>starting tonight i'm available to answer vaccine questions as always it's a judgment free zone mutual respect for all no such thing as a silly if i don't know the answer i know other experts who do comment here or message me vaccinessavelives nursetwitter</td>\n",
       "    </tr>\n",
       "  </tbody>\n",
       "</table>\n",
       "<p>2065 rows × 3 columns</p>\n",
       "</div>"
      ],
      "text/plain": [
       "                       id  label  \\\n",
       "0     1431545243825016837     -1   \n",
       "1     1370008698525990912     -1   \n",
       "2     1342494741376675840     -1   \n",
       "3     1406079188956745731     -1   \n",
       "4     1403306558667345922     -1   \n",
       "...                   ...    ...   \n",
       "2099  1422604608824913923      0   \n",
       "2100  1423790413664694272      0   \n",
       "2101  1425508706876338186      0   \n",
       "2102  1428145994433187852     -1   \n",
       "2104  1426145390605344769      0   \n",
       "\n",
       "                                                                                                                                                                                                                                                                                cleaned  \n",
       "0                                                       the science let's see if you actually understand the science 1 against what precisely does the vax stimulate antibody production 2 why should a person with covid antibodies get the vax 3 should one seek infection once vaxed  \n",
       "1                                                                                                                                                                                                             i am against any vaccine if it doesn't work on kids kids do get the virus  \n",
       "2                                    so your vax doesn't work cause if it did and the way its going to be taken it should be absolutely eradicated if your saying therebis many different strans then it is the fuckin flu and once again bigpharma is profiting off of us covidvaccine  \n",
       "3     no if you're worried about covid and ok w getting vaccinated get vaccinated if you're not worried about covid or worried about the vaccine don't everybody gets what they took the risk of doing you can't force ppl into taking something bc you feel it's best for you and them  \n",
       "4                                                                                                                                                               the vaccine debate is over the vaccine is not necessary for all and should not be required and forced on healthy people  \n",
       "...                                                                                                                                                                                                                                                                                 ...  \n",
       "2099                                                                                                                     it was good just a week ago new york gov cuomo urges businesses to adopt 'vaccineonly admission' delta yields more reinfections fauci says latest covid19 news  \n",
       "2100                                                                                                                                                                                          i'm discussing vaccine is free but insulin is not tuesday aug 10 at 200 pm edt on join us  \n",
       "2101                                                                                                                                          come to my show tonight at union pool new tunes great band bring your vax pass tim kuhl 10pm the perfect man 915pm french cleats 830pm 10  \n",
       "2102                                                                       it's time anyone who lives in long island ny please join us in the fight against agenda 21 and the global vaccine mandatesupport you're healthcare workersnurses and doctors who are for the right to choose  \n",
       "2104                    starting tonight i'm available to answer vaccine questions as always it's a judgment free zone mutual respect for all no such thing as a silly if i don't know the answer i know other experts who do comment here or message me vaccinessavelives nursetwitter  \n",
       "\n",
       "[2065 rows x 3 columns]"
      ]
     },
     "execution_count": 11,
     "metadata": {},
     "output_type": "execute_result"
    }
   ],
   "source": [
    "data"
   ]
  },
  {
   "cell_type": "markdown",
   "metadata": {},
   "source": [
    "#### Remove Stopwords & Lemmatization"
   ]
  },
  {
   "cell_type": "code",
   "execution_count": 12,
   "metadata": {},
   "outputs": [
    {
     "name": "stdout",
     "output_type": "stream",
     "text": [
      "customized stop words: ['-PRON-', 'get', 'getting', 'got', 'incredibly', 'do', 'be', \"that's\", 'lol', 'still', 'currently', 'bro', 'even', 'absolutely', 'fkn', 'thereby', 'dummy', 'next', 'ya', 'rt', 'i', 'me', 'myself', 'we', 'our', 'ours', 'ourselves', 'you', \"you're\", \"you've\", \"you'll\", \"you'd\", 'yours', 'yourself', 'yourselves', 'he', \"he's\", 'him', 'his', 'himself', 'she', \"she's\", 'her', 'hers', 'herself', 'it', \"it's\", \"that'sits\", 'itself', 'they', 'them', 'their', 'theirs', 'themselves', 'which', 'who', 'whom', 'this', 'that', \"that'll\", 'these', 'those', 'am', 'is', 'are', 'was', 'were', 'be', 'been', 'being', 'does', 'did', 'doing', 'a', 'an', 'the', 'and', 'or', 'as', 'of', 'at', 'by', 'for', 'fr', 'with', 'about', 'between', 'into', 'through', 'during', 'before', 'above', 'below', 'to', 'from', 'up', 'down', 'in', 'out', 'on', 'off', 'over', 'under', 'again', 'further', 'then', 'once', 'here', 'there', 'when', 'where', 'how', 'both', 'each', 'other', 'some', 'such', 'own', 'same', 'so', 'soo', 'sooo', 'soooo', 'than', 'very', 's', 't', 'can', 'just', \"should've\", 'now', 'd', 'll', 'm', 'o', 're', 've', 'y', 'oh']\n",
      "\n",
      "\n",
      "The shape of the training data is: (2065, 4)\n",
      "pro-vaccin tweets: 0.5995157384987894\n",
      "anti-vaccin tweets: 0.2677966101694915\n",
      "neutral-vaccin tweets: 0.13268765133171914\n"
     ]
    },
    {
     "data": {
      "text/html": [
       "<div>\n",
       "<style scoped>\n",
       "    .dataframe tbody tr th:only-of-type {\n",
       "        vertical-align: middle;\n",
       "    }\n",
       "\n",
       "    .dataframe tbody tr th {\n",
       "        vertical-align: top;\n",
       "    }\n",
       "\n",
       "    .dataframe thead th {\n",
       "        text-align: right;\n",
       "    }\n",
       "</style>\n",
       "<table border=\"1\" class=\"dataframe\">\n",
       "  <thead>\n",
       "    <tr style=\"text-align: right;\">\n",
       "      <th></th>\n",
       "      <th>id</th>\n",
       "      <th>label</th>\n",
       "      <th>cleaned</th>\n",
       "      <th>text_lemmatized</th>\n",
       "    </tr>\n",
       "  </thead>\n",
       "  <tbody>\n",
       "    <tr>\n",
       "      <th>0</th>\n",
       "      <td>1431545243825016837</td>\n",
       "      <td>-1</td>\n",
       "      <td>science let's see if actually understand science 1 against what precisely vax stimulate antibody production 2 why should person covid antibodies vax 3 should one seek infection vaxed</td>\n",
       "      <td>science let us see if actually understand science 1 against what precisely vax stimulate antibody production 2 why should person covid antibodie vax 3 should one seek infection vaxe</td>\n",
       "    </tr>\n",
       "    <tr>\n",
       "      <th>1</th>\n",
       "      <td>1370008698525990912</td>\n",
       "      <td>-1</td>\n",
       "      <td>against any vaccine if doesn't work kids kids virus</td>\n",
       "      <td>against any vaccine if do not work kid kid virus</td>\n",
       "    </tr>\n",
       "    <tr>\n",
       "      <th>2</th>\n",
       "      <td>1342494741376675840</td>\n",
       "      <td>-1</td>\n",
       "      <td>your vax doesn't work cause if way its going taken should eradicated if your saying therebis many different strans fuckin flu bigpharma profiting us covidvaccine</td>\n",
       "      <td>your vax do not work cause if way its going take should eradicate if your say therebis many different strans fuckin flu bigpharma profit we covidvaccine</td>\n",
       "    </tr>\n",
       "    <tr>\n",
       "      <th>3</th>\n",
       "      <td>1406079188956745731</td>\n",
       "      <td>-1</td>\n",
       "      <td>no if worried covid ok w vaccinated vaccinated if not worried covid worried vaccine don't everybody gets what took risk can't force ppl taking something bc feel best</td>\n",
       "      <td>no if worry covid ok w vaccinate vaccinated if not worry covid worried vaccine do not everybody get what take risk can not force ppl take something bc feel good</td>\n",
       "    </tr>\n",
       "    <tr>\n",
       "      <th>4</th>\n",
       "      <td>1403306558667345922</td>\n",
       "      <td>-1</td>\n",
       "      <td>vaccine debate vaccine not necessary all should not required forced healthy people</td>\n",
       "      <td>vaccine debate vaccine not you all should not require force healthy people</td>\n",
       "    </tr>\n",
       "    <tr>\n",
       "      <th>...</th>\n",
       "      <td>...</td>\n",
       "      <td>...</td>\n",
       "      <td>...</td>\n",
       "      <td>...</td>\n",
       "    </tr>\n",
       "    <tr>\n",
       "      <th>2099</th>\n",
       "      <td>1422604608824913923</td>\n",
       "      <td>0</td>\n",
       "      <td>good week ago new york gov cuomo urges businesses adopt 'vaccineonly admission' delta yields more reinfections fauci says latest covid19 news</td>\n",
       "      <td>good week ago new york gov cuomo urge business adopt ' vaccineonly admission ' delta yield more reinfection fauci say late covid19 news</td>\n",
       "    </tr>\n",
       "    <tr>\n",
       "      <th>2100</th>\n",
       "      <td>1423790413664694272</td>\n",
       "      <td>0</td>\n",
       "      <td>i'm discussing vaccine free but insulin not tuesday aug 10 200 pm edt join us</td>\n",
       "      <td>I be discuss vaccine free but insulin not tuesday aug 10 200 pm edt join we</td>\n",
       "    </tr>\n",
       "    <tr>\n",
       "      <th>2101</th>\n",
       "      <td>1425508706876338186</td>\n",
       "      <td>0</td>\n",
       "      <td>come my show tonight union pool new tunes great band bring your vax pass tim kuhl 10pm perfect man 915pm french cleats 830pm 10</td>\n",
       "      <td>come my show tonight union pool new tune great band bring your vax pass tim kuhl 10 pm perfect man 915pm french cleat 830pm 10</td>\n",
       "    </tr>\n",
       "    <tr>\n",
       "      <th>2102</th>\n",
       "      <td>1428145994433187852</td>\n",
       "      <td>-1</td>\n",
       "      <td>time anyone lives long island ny please join us fight against agenda 21 global vaccine mandatesupport healthcare workersnurses doctors right choose</td>\n",
       "      <td>time anyone live long island ny please join we fight against agenda 21 global vaccine mandatesupport healthcare workersnurse doctor right choose</td>\n",
       "    </tr>\n",
       "    <tr>\n",
       "      <th>2104</th>\n",
       "      <td>1426145390605344769</td>\n",
       "      <td>0</td>\n",
       "      <td>starting tonight i'm available answer vaccine questions always judgment free zone mutual respect all no thing silly if don't know answer know experts comment message vaccinessavelives nursetwitter</td>\n",
       "      <td>start tonight I be available answer vaccine question always judgment free zone mutual respect all no thing silly if do not know answer know expert comment message vaccinessavelive nursetwitter</td>\n",
       "    </tr>\n",
       "  </tbody>\n",
       "</table>\n",
       "<p>2065 rows × 4 columns</p>\n",
       "</div>"
      ],
      "text/plain": [
       "                       id  label  \\\n",
       "0     1431545243825016837     -1   \n",
       "1     1370008698525990912     -1   \n",
       "2     1342494741376675840     -1   \n",
       "3     1406079188956745731     -1   \n",
       "4     1403306558667345922     -1   \n",
       "...                   ...    ...   \n",
       "2099  1422604608824913923      0   \n",
       "2100  1423790413664694272      0   \n",
       "2101  1425508706876338186      0   \n",
       "2102  1428145994433187852     -1   \n",
       "2104  1426145390605344769      0   \n",
       "\n",
       "                                                                                                                                                                                                   cleaned  \\\n",
       "0                   science let's see if actually understand science 1 against what precisely vax stimulate antibody production 2 why should person covid antibodies vax 3 should one seek infection vaxed   \n",
       "1                                                                                                                                                      against any vaccine if doesn't work kids kids virus   \n",
       "2                                        your vax doesn't work cause if way its going taken should eradicated if your saying therebis many different strans fuckin flu bigpharma profiting us covidvaccine   \n",
       "3                                    no if worried covid ok w vaccinated vaccinated if not worried covid worried vaccine don't everybody gets what took risk can't force ppl taking something bc feel best   \n",
       "4                                                                                                                       vaccine debate vaccine not necessary all should not required forced healthy people   \n",
       "...                                                                                                                                                                                                    ...   \n",
       "2099                                                         good week ago new york gov cuomo urges businesses adopt 'vaccineonly admission' delta yields more reinfections fauci says latest covid19 news   \n",
       "2100                                                                                                                         i'm discussing vaccine free but insulin not tuesday aug 10 200 pm edt join us   \n",
       "2101                                                                       come my show tonight union pool new tunes great band bring your vax pass tim kuhl 10pm perfect man 915pm french cleats 830pm 10   \n",
       "2102                                                   time anyone lives long island ny please join us fight against agenda 21 global vaccine mandatesupport healthcare workersnurses doctors right choose   \n",
       "2104  starting tonight i'm available answer vaccine questions always judgment free zone mutual respect all no thing silly if don't know answer know experts comment message vaccinessavelives nursetwitter   \n",
       "\n",
       "                                                                                                                                                                                       text_lemmatized  \n",
       "0                science let us see if actually understand science 1 against what precisely vax stimulate antibody production 2 why should person covid antibodie vax 3 should one seek infection vaxe  \n",
       "1                                                                                                                                                     against any vaccine if do not work kid kid virus  \n",
       "2                                             your vax do not work cause if way its going take should eradicate if your say therebis many different strans fuckin flu bigpharma profit we covidvaccine  \n",
       "3                                     no if worry covid ok w vaccinate vaccinated if not worry covid worried vaccine do not everybody get what take risk can not force ppl take something bc feel good  \n",
       "4                                                                                                                           vaccine debate vaccine not you all should not require force healthy people  \n",
       "...                                                                                                                                                                                                ...  \n",
       "2099                                                           good week ago new york gov cuomo urge business adopt ' vaccineonly admission ' delta yield more reinfection fauci say late covid19 news  \n",
       "2100                                                                                                                       I be discuss vaccine free but insulin not tuesday aug 10 200 pm edt join we  \n",
       "2101                                                                    come my show tonight union pool new tune great band bring your vax pass tim kuhl 10 pm perfect man 915pm french cleat 830pm 10  \n",
       "2102                                                  time anyone live long island ny please join we fight against agenda 21 global vaccine mandatesupport healthcare workersnurse doctor right choose  \n",
       "2104  start tonight I be available answer vaccine question always judgment free zone mutual respect all no thing silly if do not know answer know expert comment message vaccinessavelive nursetwitter  \n",
       "\n",
       "[2065 rows x 4 columns]"
      ]
     },
     "execution_count": 12,
     "metadata": {},
     "output_type": "execute_result"
    }
   ],
   "source": [
    "# prepare stopwords\n",
    "# remove stop words using customized stop-words\n",
    "with open(\"collected_twts/cust-stop-word_v5.txt\") as file:\n",
    "    lines = file.readlines()\n",
    "    stopword_1=[line.rstrip() for line in lines]\n",
    "\n",
    "print(\"customized stop words: {}\".format(stopword_1))\n",
    "# print(\"predefined stop words: {}\".format(stopword_2))\n",
    "stwd = stopword_1\n",
    "data[\"cleaned\"] = data[\"cleaned\"].apply(lambda x: \" \".join([word for word in x.split() if word not in (stwd)]))\n",
    "\n",
    "# lemmatization\n",
    "nlp = spacy.load(\"en_core_web_sm\")\n",
    "data[\"text_lemmatized\"] = data[\"cleaned\"].apply(lambda row: \" \".join([w.lemma_ for w in nlp(row)]))\n",
    "\n",
    "print(\"\\n\")\n",
    "print(\"The shape of the training data is: {}\".format(data.shape))\n",
    "print(\"pro-vaccin tweets: {}\".format(len(data[data[\"label\"]==1])/len(data)))\n",
    "print(\"anti-vaccin tweets: {}\".format(len(data[data[\"label\"]==-1])/len(data)))\n",
    "print(\"neutral-vaccin tweets: {}\".format(len(data[data[\"label\"]==0])/len(data)))\n",
    "\n",
    "# view final data \n",
    "data"
   ]
  },
  {
   "cell_type": "markdown",
   "metadata": {},
   "source": [
    "#### Build Pipelines "
   ]
  },
  {
   "cell_type": "markdown",
   "metadata": {},
   "source": [
    "#### Lemmatization"
   ]
  },
  {
   "cell_type": "code",
   "execution_count": 13,
   "metadata": {},
   "outputs": [
    {
     "name": "stdout",
     "output_type": "stream",
     "text": [
      "Train set size: (1652,)\n",
      "Test set size: (413,)\n",
      "Test anti-vax size: 111\n"
     ]
    }
   ],
   "source": [
    "np.random.seed(250) # 210  125  888 240 900\n",
    "\n",
    "\n",
    "# split dataset into train and test \n",
    "train_x, test_x, train_y, test_y = model_selection.train_test_split(data['text_lemmatized'],data['label'],\n",
    "                                                                    test_size=0.20, stratify = data['label'])  #  \n",
    "print(\"Train set size: {}\".format(train_x.shape))\n",
    "print(\"Test set size: {}\".format(test_x.shape))\n",
    "print(\"Test anti-vax size: {}\".format(sum(test_y==-1)))"
   ]
  },
  {
   "cell_type": "markdown",
   "metadata": {},
   "source": [
    "#### Linear SVM\n",
    "\n",
    "Parameter grid: \n",
    "\n",
    "n gram range: unigram, bigram and trigram \n",
    "\n",
    "min_df: 1,2,3"
   ]
  },
  {
   "cell_type": "code",
   "execution_count": 15,
   "metadata": {
    "scrolled": false
   },
   "outputs": [
    {
     "name": "stdout",
     "output_type": "stream",
     "text": [
      "Best cross-validation accuracy: 0.763\n",
      "Best parameters:  {'linearsvc__C': 0.001, 'tfidfvectorizer__min_df': 2, 'tfidfvectorizer__ngram_range': (1, 2)}\n",
      "Test set score: 0.746\n"
     ]
    }
   ],
   "source": [
    "pipe = make_pipeline(TfidfVectorizer(norm=None), LinearSVC(max_iter = 1500))\n",
    "cv=StratifiedShuffleSplit(n_splits=10)    # ten-fold cross validation\n",
    "param_grid = {\"tfidfvectorizer__ngram_range\":[(1,1),(1,2),[1,3]],\n",
    "              \"tfidfvectorizer__min_df\":[1,2,3,4,5],\n",
    "             'linearsvc__C': [0.001, 0.01, 0.1]}\n",
    "\n",
    "grid = GridSearchCV(pipe, param_grid=param_grid, cv=cv)\n",
    "grid.fit(train_x, train_y)\n",
    "\n",
    "print(\"Best cross-validation accuracy: {:.3f}\".format(grid.best_score_))\n",
    "print(\"Best parameters: \", grid.best_params_)\n",
    "print(\"Test set score: {:.3f}\".format(grid.score(test_x, test_y)))"
   ]
  },
  {
   "cell_type": "markdown",
   "metadata": {},
   "source": [
    "### Predict\n",
    "\n",
    "Search 2-2 NYS vaccine related tweets"
   ]
  },
  {
   "cell_type": "code",
   "execution_count": 16,
   "metadata": {},
   "outputs": [
    {
     "name": "stdout",
     "output_type": "stream",
     "text": [
      "Training set - Test set accuracy score: 0.7554479418886199\n",
      "All set - Test set accuracy score: 0.9806295399515739\n"
     ]
    }
   ],
   "source": [
    "# LINEAR SVC & parameter C  \n",
    "# train_x, test_x, train_y, test_y\n",
    "\n",
    "# tf-idf fit \n",
    "# s1: vectorize tweets \n",
    "vect = TfidfVectorizer(norm=None,ngram_range=(1,2),min_df=2)\n",
    "vect.fit(data[\"text_lemmatized\"])\n",
    "\n",
    "# vectorize test and train  \n",
    "train_x_vct = vect.transform(train_x)\n",
    "test_x_vct = vect.transform(test_x)\n",
    "labeled_vct = vect.transform(data[\"text_lemmatized\"])\n",
    "\n",
    "# model test \n",
    "model_test = LinearSVC(C=0.001)\n",
    "model_test.fit(train_x_vct, train_y)\n",
    "print(\"Training set - Test set accuracy score: {}\".format(model_test.score(test_x_vct, test_y)))\n",
    "\n",
    "# FINAL model to predict \n",
    "model=LinearSVC(C=0.001)\n",
    "model.fit(labeled_vct, data[\"label\"])\n",
    "print(\"All set - Test set accuracy score: {}\".format(model.score(test_x_vct, test_y)))"
   ]
  },
  {
   "cell_type": "code",
   "execution_count": 17,
   "metadata": {},
   "outputs": [
    {
     "name": "stdout",
     "output_type": "stream",
     "text": [
      "SVM Training model metrics\n",
      "Test set accuracy score: 0.7554479418886199\n",
      "Test set F1 score: 0.7196226415094339\n",
      "Test set Precision score: 0.7692515270330772\n",
      "Test set Recall score: 0.6882064987328146\n",
      "Classification report:               precision    recall  f1-score   support\n",
      "\n",
      "          -1      0.663     0.532     0.590       111\n",
      "           0      0.878     0.655     0.750        55\n",
      "           1      0.767     0.879     0.819       247\n",
      "\n",
      "    accuracy                          0.755       413\n",
      "   macro avg      0.769     0.688     0.720       413\n",
      "weighted avg      0.754     0.755     0.748       413\n",
      "\n"
     ]
    }
   ],
   "source": [
    "print(\"SVM Training model metrics\")\n",
    "test_y_pred = model_test.predict(test_x_vct)\n",
    "print(\"Test set accuracy score: {}\". format(accuracy_score(test_y, test_y_pred)))\n",
    "print(\"Test set F1 score: {}\". format(f1_score(test_y, test_y_pred, average=\"macro\")))\n",
    "print(\"Test set Precision score: {}\". format(precision_score(test_y, test_y_pred, average=\"macro\")))\n",
    "print(\"Test set Recall score: {}\". format(recall_score(test_y, test_y_pred, average=\"macro\")))\n",
    "print(\"Classification report: {}\". format(classification_report(test_y, test_y_pred, digits=3)))"
   ]
  },
  {
   "cell_type": "markdown",
   "metadata": {},
   "source": [
    "### Prediction NYS tweets "
   ]
  },
  {
   "cell_type": "code",
   "execution_count": 84,
   "metadata": {},
   "outputs": [],
   "source": [
    "## PREDICT _ NYS tweet dataset \n",
    "NY_vax = pd.read_json(\"collected_twts/search_2-2/labeling/toPredict_NYS.json\", dtype=str)\n",
    "## remove stopwords \n",
    "NY_vax[\"cleaned\"] = NY_vax[\"cleaned\"].apply(lambda x: \" \".join([word for word in x.split() if word not in (stwd)]))\n",
    "## lemmatization \n",
    "NY_vax[\"text_lemmatized\"] = NY_vax[\"cleaned\"].apply(lambda row: \" \".join([w.lemma_ for w in nlp(row)]))\n",
    "## vectorize \n",
    "NY_vct = vect.transform(NY_vax[\"text_lemmatized\"])\n",
    "# ## predict \n",
    "# NY_vax[\"pred\"] = model.predict(NY_vct)"
   ]
  },
  {
   "cell_type": "markdown",
   "metadata": {},
   "source": [
    "### Prediction Conversation Tweets"
   ]
  },
  {
   "cell_type": "code",
   "execution_count": 85,
   "metadata": {},
   "outputs": [],
   "source": [
    "## PREDICT _ NYS tweet dataset \n",
    "CONV_vax = pd.read_json(\"collected_twts/search_2-2/labeling/toPredict_CONV.json\", dtype=str)\n",
    "## remove stopwords \n",
    "CONV_vax[\"cleaned\"] = CONV_vax[\"cleaned\"].apply(lambda x: \" \".join([word for word in x.split() if word not in (stwd)]))\n",
    "## lemmatization \n",
    "CONV_vax[\"text_lemmatized\"] = CONV_vax[\"cleaned\"].apply(lambda row: \" \".join([w.lemma_ for w in nlp(row)]))\n",
    "## vectorize \n",
    "CONV_vct = vect.transform(CONV_vax[\"text_lemmatized\"])\n",
    "# ## predict \n",
    "# CONV_vax[\"pred\"] = model.predict(CONV_vct)"
   ]
  }
 ],
 "metadata": {
  "kernelspec": {
   "display_name": "Python 3 (ipykernel)",
   "language": "python",
   "name": "python3"
  },
  "language_info": {
   "codemirror_mode": {
    "name": "ipython",
    "version": 3
   },
   "file_extension": ".py",
   "mimetype": "text/x-python",
   "name": "python",
   "nbconvert_exporter": "python",
   "pygments_lexer": "ipython3",
   "version": "3.9.7"
  }
 },
 "nbformat": 4,
 "nbformat_minor": 4
}
